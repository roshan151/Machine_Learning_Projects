{
 "cells": [
  {
   "cell_type": "code",
   "execution_count": 1,
   "id": "ed2edc96",
   "metadata": {},
   "outputs": [],
   "source": [
    "import requests\n",
    "import json\n",
    "import zipfile\n",
    "import numpy as np\n",
    "import tensorflow as tf\n",
    "import matplotlib.pyplot as plt\n",
    "from tensorflow.keras.preprocessing.text import Tokenizer\n",
    "from tensorflow.keras.preprocessing.sequence import pad_sequences\n"
   ]
  },
  {
   "cell_type": "code",
   "execution_count": 2,
   "id": "677008e2",
   "metadata": {},
   "outputs": [
    {
     "data": {
      "text/plain": [
       "5643545"
      ]
     },
     "execution_count": 2,
     "metadata": {},
     "output_type": "execute_result"
    }
   ],
   "source": [
    "dataset = 'https://storage.googleapis.com/tensorflow-1-public/course3/sarcasm.json'\n",
    "    \n",
    "response = requests.get(dataset)\n",
    "open('C:/Users/RTiwari1/Projects/NLP/sarcasm.json','wb').write(response.content)\n"
   ]
  },
  {
   "cell_type": "code",
   "execution_count": 3,
   "id": "574622ff",
   "metadata": {},
   "outputs": [],
   "source": [
    "with open(\"./Projects/NLP/sarcasm.json\", 'r') as f:\n",
    "    datastore = json.load(f)\n",
    "\n",
    "# Initialize the lists\n",
    "sentences = []\n",
    "labels = []\n",
    "\n",
    "# Collect sentences and labels into the lists\n",
    "for item in datastore:\n",
    "    sentences.append(item['headline'])\n",
    "    labels.append(item['is_sarcastic'])\n",
    "    \n",
    "#Split the Dataset\n",
    "training_size = 20000\n",
    "\n",
    "# Split the sentences\n",
    "training_sentences = sentences[0:training_size]\n",
    "testing_sentences = sentences[training_size:]\n",
    "\n",
    "# Split the labels\n",
    "training_labels = labels[0:training_size]\n",
    "testing_labels = labels[training_size:]\n",
    "\n"
   ]
  },
  {
   "cell_type": "code",
   "execution_count": 13,
   "id": "ca9558d1",
   "metadata": {},
   "outputs": [],
   "source": [
    "#Data preprocessing\n",
    "vocab_size = 10000\n",
    "max_length = 120\n",
    "trunc_type='post'\n",
    "padding_type='post'\n",
    "oov_tok = \"<OOV>\"\n",
    "\n",
    "# Initialize the Tokenizer class\n",
    "tokenizer = Tokenizer(num_words=vocab_size, oov_token=oov_tok)\n",
    "\n",
    "# Generate the word index dictionary\n",
    "tokenizer.fit_on_texts(training_sentences)\n",
    "word_index = tokenizer.word_index\n",
    "\n",
    "# Generate and pad the training sequences\n",
    "training_sequences = tokenizer.texts_to_sequences(training_sentences)\n",
    "training_padded = pad_sequences(training_sequences, maxlen=max_length, padding=padding_type, truncating=trunc_type)\n",
    "\n",
    "# Generate and pad the testing sequences\n",
    "testing_sequences = tokenizer.texts_to_sequences(testing_sentences)\n",
    "testing_padded = pad_sequences(testing_sequences, maxlen=max_length, padding=padding_type, truncating=trunc_type)\n",
    "\n",
    "# Convert the labels lists into numpy arrays\n",
    "training_labels = np.array(training_labels)\n",
    "testing_labels = np.array(testing_labels)"
   ]
  },
  {
   "cell_type": "code",
   "execution_count": 19,
   "id": "5966184f",
   "metadata": {},
   "outputs": [
    {
     "name": "stdout",
     "output_type": "stream",
     "text": [
      "Model: \"sequential_1\"\n",
      "_________________________________________________________________\n",
      "Layer (type)                 Output Shape              Param #   \n",
      "=================================================================\n",
      "embedding_1 (Embedding)      (None, 120, 16)           160000    \n",
      "_________________________________________________________________\n",
      "bidirectional_1 (Bidirection (None, 64)                12544     \n",
      "_________________________________________________________________\n",
      "dense_2 (Dense)              (None, 24)                1560      \n",
      "_________________________________________________________________\n",
      "dense_3 (Dense)              (None, 1)                 25        \n",
      "=================================================================\n",
      "Total params: 174,129\n",
      "Trainable params: 174,129\n",
      "Non-trainable params: 0\n",
      "_________________________________________________________________\n",
      "Epoch 1/10\n",
      "625/625 [==============================] - 27s 38ms/step - loss: 0.4159 - accuracy: 0.7958 - val_loss: 0.3306 - val_accuracy: 0.8612\n",
      "Epoch 2/10\n",
      "625/625 [==============================] - 21s 34ms/step - loss: 0.2220 - accuracy: 0.9090 - val_loss: 0.3523 - val_accuracy: 0.8568\n",
      "Epoch 3/10\n",
      "625/625 [==============================] - 21s 34ms/step - loss: 0.1660 - accuracy: 0.9380 - val_loss: 0.3986 - val_accuracy: 0.8496\n",
      "Epoch 4/10\n",
      "625/625 [==============================] - 23s 37ms/step - loss: 0.1095 - accuracy: 0.9593 - val_loss: 0.4604 - val_accuracy: 0.8477\n",
      "Epoch 5/10\n",
      "625/625 [==============================] - 22s 35ms/step - loss: 0.0712 - accuracy: 0.9768 - val_loss: 0.5238 - val_accuracy: 0.8405\n",
      "Epoch 6/10\n",
      "625/625 [==============================] - 21s 33ms/step - loss: 0.0462 - accuracy: 0.9852 - val_loss: 0.6842 - val_accuracy: 0.8381\n",
      "Epoch 7/10\n",
      "625/625 [==============================] - 22s 34ms/step - loss: 0.0318 - accuracy: 0.9894 - val_loss: 0.7879 - val_accuracy: 0.8396\n",
      "Epoch 8/10\n",
      "625/625 [==============================] - 22s 35ms/step - loss: 0.0215 - accuracy: 0.9929 - val_loss: 0.9022 - val_accuracy: 0.8381\n",
      "Epoch 9/10\n",
      "625/625 [==============================] - 21s 34ms/step - loss: 0.0165 - accuracy: 0.9945 - val_loss: 0.9352 - val_accuracy: 0.8329\n",
      "Epoch 10/10\n",
      "625/625 [==============================] - 22s 36ms/step - loss: 0.0107 - accuracy: 0.9968 - val_loss: 0.9769 - val_accuracy: 0.8326\n"
     ]
    }
   ],
   "source": [
    "#Build and Compile the Model\n",
    "embedding_dim = 16\n",
    "lstm_dim = 32\n",
    "dense_dim = 24\n",
    "\n",
    "# Model Definition with LSTM\n",
    "model_lstm = tf.keras.Sequential([\n",
    "    tf.keras.layers.Embedding(vocab_size, embedding_dim, input_length=max_length),\n",
    "    tf.keras.layers.Bidirectional(tf.keras.layers.LSTM(lstm_dim)),\n",
    "    tf.keras.layers.Dense(dense_dim, activation='relu'),\n",
    "    tf.keras.layers.Dense(1, activation='sigmoid')\n",
    "])\n",
    "\n",
    "# Set the training parameters\n",
    "model_lstm.compile(loss='binary_crossentropy',optimizer='adam',metrics=['accuracy'])\n",
    "\n",
    "# Print the model summary\n",
    "model_lstm.summary()\n",
    "\n",
    "\n",
    "NUM_EPOCHS = 10\n",
    "\n",
    "# Train the model\n",
    "history_lstm = model_lstm.fit(training_padded, training_labels, epochs=NUM_EPOCHS, validation_data=(testing_padded, testing_labels))\n"
   ]
  },
  {
   "cell_type": "code",
   "execution_count": 20,
   "id": "50331784",
   "metadata": {},
   "outputs": [
    {
     "data": {
      "image/png": "[encoded data removed]",
      "text/plain": [
       "<Figure size 432x288 with 1 Axes>"
      ]
     },
     "metadata": {
      "needs_background": "light"
     },
     "output_type": "display_data"
    },
    {
     "data": {
      "image/png": "[encoded data removed]",
      "text/plain": [
       "<Figure size 432x288 with 1 Axes>"
      ]
     },
     "metadata": {
      "needs_background": "light"
     },
     "output_type": "display_data"
    }
   ],
   "source": [
    "# Plot Utility\n",
    "def plot_graphs(history, string):\n",
    "    plt.plot(history.history[string])\n",
    "    plt.plot(history.history['val_'+string])\n",
    "    plt.xlabel(\"Epochs\")\n",
    "    plt.ylabel(string)\n",
    "    plt.legend([string, 'val_'+string])\n",
    "    plt.show()\n",
    "\n",
    "# Plot the accuracy and loss history\n",
    "plot_graphs(history_lstm, 'accuracy')\n",
    "plot_graphs(history_lstm, 'loss')"
   ]
  },
  {
   "cell_type": "code",
   "execution_count": 15,
   "id": "ebe72cc8",
   "metadata": {},
   "outputs": [],
   "source": [
    "#Implement the same model using glove embeddings.\n",
    "\n",
    "# Define path to file containing the embeddings\n",
    "GLOVE_FILE = './Projects/NLP/data/glove.6B.100d.txt'\n",
    "VOCAB_SIZE = 40000\n",
    "# Initialize an empty embeddings index dictionary\n",
    "GLOVE_EMBEDDINGS = {}\n",
    "\n",
    "# Read file and fill GLOVE_EMBEDDINGS with its contents\n",
    "f = open(GLOVE_FILE, encoding = 'utf-8')\n",
    "\n",
    "for line in f:\n",
    "    values = line.split()\n",
    "    word = values[0]\n",
    "    coefs = np.asarray(values[1:], dtype='float32')\n",
    "    GLOVE_EMBEDDINGS[word] = coefs"
   ]
  },
  {
   "cell_type": "code",
   "execution_count": 18,
   "id": "7c2b938b",
   "metadata": {},
   "outputs": [
    {
     "name": "stdout",
     "output_type": "stream",
     "text": [
      "Vector representation of word tiger looks like this:\n",
      "\n",
      "[-0.82157   0.7952    0.80816  -0.09699  -0.11838   0.021151  0.62663\n",
      " -0.62621  -0.602    -0.76326  -0.29244   1.0718    1.0264    0.51485\n",
      " -0.26717   0.98914  -0.13989  -0.14031   0.068456  0.64535   0.25223\n",
      " -0.32911   0.16927   0.38475   0.41674   1.097    -0.66572  -0.64471\n",
      " -0.12801  -0.55854  -0.36549   0.079815  0.17361   0.13237   1.0031\n",
      " -0.50629  -0.84352   0.8185    0.41386  -0.17179  -0.49508   0.61723\n",
      "  0.55838   0.36077   0.34123   0.13034  -0.11284   0.4226   -0.67964\n",
      " -0.66582  -1.1275    0.16545   0.028074  0.59515   0.40081  -1.5653\n",
      " -0.38159   0.16342   0.81675   0.43633  -0.051347  0.68191  -0.66771\n",
      "  0.94923   0.24136   0.64997   0.24963   0.41191   0.19212   1.1599\n",
      " -0.089726 -0.55557  -0.64921  -0.39078  -0.65487   0.031186  0.073248\n",
      "  0.45036  -0.83119   1.1082    0.29897  -0.83352   0.20487   0.19633\n",
      " -0.12631   0.33189  -0.16336  -0.12867   0.22577   1.0092    0.51273\n",
      " -0.30085  -0.012987 -0.087924 -0.47341   0.26818  -0.82033   0.37465\n",
      "  0.73564   0.11336 ]\n",
      "Each word vector has shape: (100,)\n"
     ]
    }
   ],
   "source": [
    "test_word = 'tiger'\n",
    "\n",
    "test_vector = GLOVE_EMBEDDINGS[test_word]\n",
    "\n",
    "print(f\"Vector representation of word {test_word} looks like this:\\n\\n{test_vector}\")\n",
    "\n",
    "print(f\"Each word vector has shape: {test_vector.shape}\")"
   ]
  },
  {
   "cell_type": "code",
   "execution_count": 16,
   "id": "8ef136ed",
   "metadata": {},
   "outputs": [],
   "source": [
    "# Initialize an empty numpy array with the appropriate size\n",
    "EMBEDDING_DIM = 100\n",
    "EMBEDDINGS_MATRIX = np.zeros((VOCAB_SIZE+1, EMBEDDING_DIM))\n",
    "\n",
    "# Iterate all of the words in the vocabulary and if the vector representation for \n",
    "# each word exists within GloVe's representations, save it in the EMBEDDINGS_MATRIX array\n",
    "for word, i in word_index.items():\n",
    "    embedding_vector = GLOVE_EMBEDDINGS.get(word)\n",
    "    if embedding_vector is not None:\n",
    "        EMBEDDINGS_MATRIX[i] = embedding_vector"
   ]
  },
  {
   "cell_type": "code",
   "execution_count": 17,
   "id": "bd1d0eec",
   "metadata": {},
   "outputs": [
    {
     "name": "stdout",
     "output_type": "stream",
     "text": [
      "Epoch 1/20\n",
      "625/625 [==============================] - 33s 49ms/step - loss: 0.6304 - accuracy: 0.6460 - val_loss: 0.5792 - val_accuracy: 0.7058\n",
      "Epoch 2/20\n",
      "625/625 [==============================] - 30s 49ms/step - loss: 0.5341 - accuracy: 0.7388 - val_loss: 0.4975 - val_accuracy: 0.7559\n",
      "Epoch 3/20\n",
      "625/625 [==============================] - 30s 48ms/step - loss: 0.4698 - accuracy: 0.7783 - val_loss: 0.4558 - val_accuracy: 0.7874\n",
      "Epoch 4/20\n",
      "625/625 [==============================] - 29s 47ms/step - loss: 0.4366 - accuracy: 0.7972 - val_loss: 0.4379 - val_accuracy: 0.7949\n",
      "Epoch 5/20\n",
      "625/625 [==============================] - 28s 45ms/step - loss: 0.4165 - accuracy: 0.8090 - val_loss: 0.4277 - val_accuracy: 0.7997\n",
      "Epoch 6/20\n",
      "625/625 [==============================] - 29s 46ms/step - loss: 0.4001 - accuracy: 0.8181 - val_loss: 0.4095 - val_accuracy: 0.8082\n",
      "Epoch 7/20\n",
      "625/625 [==============================] - 29s 47ms/step - loss: 0.3876 - accuracy: 0.8254 - val_loss: 0.4108 - val_accuracy: 0.8053\n",
      "Epoch 8/20\n",
      "625/625 [==============================] - 29s 47ms/step - loss: 0.3764 - accuracy: 0.8325 - val_loss: 0.4264 - val_accuracy: 0.8010\n",
      "Epoch 9/20\n",
      "625/625 [==============================] - 29s 47ms/step - loss: 0.3653 - accuracy: 0.8369 - val_loss: 0.3880 - val_accuracy: 0.8208\n",
      "Epoch 10/20\n",
      "625/625 [==============================] - 28s 45ms/step - loss: 0.3560 - accuracy: 0.8430 - val_loss: 0.3809 - val_accuracy: 0.8289\n",
      "Epoch 11/20\n",
      "625/625 [==============================] - 28s 45ms/step - loss: 0.3471 - accuracy: 0.8473 - val_loss: 0.3847 - val_accuracy: 0.8216\n",
      "Epoch 12/20\n",
      "625/625 [==============================] - 28s 44ms/step - loss: 0.3388 - accuracy: 0.8518 - val_loss: 0.3953 - val_accuracy: 0.8189\n",
      "Epoch 13/20\n",
      "625/625 [==============================] - 28s 45ms/step - loss: 0.3316 - accuracy: 0.8551 - val_loss: 0.3714 - val_accuracy: 0.8341\n",
      "Epoch 14/20\n",
      "625/625 [==============================] - 29s 46ms/step - loss: 0.3232 - accuracy: 0.8608 - val_loss: 0.3733 - val_accuracy: 0.8331\n",
      "Epoch 15/20\n",
      "625/625 [==============================] - 28s 45ms/step - loss: 0.3166 - accuracy: 0.8658 - val_loss: 0.3631 - val_accuracy: 0.8405\n",
      "Epoch 16/20\n",
      "625/625 [==============================] - 28s 46ms/step - loss: 0.3095 - accuracy: 0.8658 - val_loss: 0.3677 - val_accuracy: 0.8347\n",
      "Epoch 17/20\n",
      "625/625 [==============================] - 29s 47ms/step - loss: 0.3037 - accuracy: 0.8698 - val_loss: 0.3596 - val_accuracy: 0.8387\n",
      "Epoch 18/20\n",
      "625/625 [==============================] - 29s 46ms/step - loss: 0.2974 - accuracy: 0.8747 - val_loss: 0.3533 - val_accuracy: 0.8456\n",
      "Epoch 19/20\n",
      "625/625 [==============================] - 31s 50ms/step - loss: 0.2918 - accuracy: 0.8769 - val_loss: 0.3541 - val_accuracy: 0.8432\n",
      "Epoch 20/20\n",
      "625/625 [==============================] - 30s 49ms/step - loss: 0.2855 - accuracy: 0.8796 - val_loss: 0.3504 - val_accuracy: 0.8465\n"
     ]
    }
   ],
   "source": [
    "MAXLEN = 120\n",
    "def create_model(vocab_size, embedding_dim, maxlen, embeddings_matrix):\n",
    "    \n",
    "    model = tf.keras.Sequential([ \n",
    "        tf.keras.layers.Embedding(vocab_size+1, embedding_dim, input_length=maxlen, weights=[embeddings_matrix], trainable=False),\n",
    "        tf.keras.layers.Bidirectional(tf.keras.layers.GRU(64)),\n",
    "        tf.keras.layers.Dense(32, activation='relu'),\n",
    "        tf.keras.layers.Dense(1, activation='sigmoid')\n",
    "    ])\n",
    "    \n",
    "    model.compile(loss='binary_crossentropy', optimizer=tf.keras.optimizers.RMSprop(learning_rate = 0.0001),metrics=['accuracy']) \n",
    "\n",
    "    return model\n",
    "\n",
    "model = create_model(VOCAB_SIZE, EMBEDDING_DIM, MAXLEN, EMBEDDINGS_MATRIX)\n",
    "\n",
    "# Train the model and save the training history\n",
    "history = model.fit(training_padded, training_labels, epochs=20, validation_data=(testing_padded, testing_labels))"
   ]
  },
  {
   "cell_type": "code",
   "execution_count": 18,
   "id": "3d7ee24d",
   "metadata": {},
   "outputs": [
    {
     "data": {
      "image/png": "[encoded data removed]",
      "text/plain": [
       "<Figure size 432x288 with 1 Axes>"
      ]
     },
     "metadata": {
      "needs_background": "light"
     },
     "output_type": "display_data"
    }
   ],
   "source": [
    "loss = history.history['loss']\n",
    "val_loss = history.history['val_loss']\n",
    "\n",
    "epochs = [*range(20)]\n",
    "\n",
    "plt.plot(epochs, loss, 'r')\n",
    "plt.plot(epochs, val_loss, 'b')\n",
    "plt.title('Training and validation loss')\n",
    "plt.xlabel(\"Epochs\")\n",
    "plt.ylabel(\"Loss\")\n",
    "plt.legend([\"Loss\", \"Validation Loss\"])\n",
    "plt.show()"
   ]
  },
  {
   "cell_type": "code",
   "execution_count": null,
   "id": "76e4d67b",
   "metadata": {},
   "outputs": [],
   "source": []
  }
 ],
 "metadata": {
  "kernelspec": {
   "display_name": "Python 3 (ipykernel)",
   "language": "python",
   "name": "python3"
  },
  "language_info": {
   "codemirror_mode": {
    "name": "ipython",
    "version": 3
   },
   "file_extension": ".py",
   "mimetype": "text/x-python",
   "name": "python",
   "nbconvert_exporter": "python",
   "pygments_lexer": "ipython3",
   "version": "3.9.12"
  }
 },
 "nbformat": 4,
 "nbformat_minor": 5
}
